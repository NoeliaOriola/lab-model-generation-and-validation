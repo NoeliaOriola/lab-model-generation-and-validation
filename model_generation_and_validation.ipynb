{
 "cells": [
  {
   "cell_type": "code",
   "execution_count": 1,
   "id": "e52e90a5",
   "metadata": {},
   "outputs": [],
   "source": [
    "import pandas as pd\n",
    "import numpy as np\n",
    "import math"
   ]
  },
  {
   "cell_type": "code",
   "execution_count": 2,
   "id": "cafe946b",
   "metadata": {},
   "outputs": [
    {
     "data": {
      "text/html": [
       "<div>\n",
       "<style scoped>\n",
       "    .dataframe tbody tr th:only-of-type {\n",
       "        vertical-align: middle;\n",
       "    }\n",
       "\n",
       "    .dataframe tbody tr th {\n",
       "        vertical-align: top;\n",
       "    }\n",
       "\n",
       "    .dataframe thead th {\n",
       "        text-align: right;\n",
       "    }\n",
       "</style>\n",
       "<table border=\"1\" class=\"dataframe\">\n",
       "  <thead>\n",
       "    <tr style=\"text-align: right;\">\n",
       "      <th></th>\n",
       "      <th>Customer</th>\n",
       "      <th>State</th>\n",
       "      <th>Customer Lifetime Value</th>\n",
       "      <th>Response</th>\n",
       "      <th>Coverage</th>\n",
       "      <th>Education</th>\n",
       "      <th>Effective To Date</th>\n",
       "      <th>EmploymentStatus</th>\n",
       "      <th>Gender</th>\n",
       "      <th>Income</th>\n",
       "      <th>...</th>\n",
       "      <th>Months Since Policy Inception</th>\n",
       "      <th>Number of Open Complaints</th>\n",
       "      <th>Number of Policies</th>\n",
       "      <th>Policy Type</th>\n",
       "      <th>Policy</th>\n",
       "      <th>Renew Offer Type</th>\n",
       "      <th>Sales Channel</th>\n",
       "      <th>Total Claim Amount</th>\n",
       "      <th>Vehicle Class</th>\n",
       "      <th>Vehicle Size</th>\n",
       "    </tr>\n",
       "  </thead>\n",
       "  <tbody>\n",
       "    <tr>\n",
       "      <th>0</th>\n",
       "      <td>BU79786</td>\n",
       "      <td>Washington</td>\n",
       "      <td>2763.519279</td>\n",
       "      <td>No</td>\n",
       "      <td>Basic</td>\n",
       "      <td>Bachelor</td>\n",
       "      <td>2/24/11</td>\n",
       "      <td>Employed</td>\n",
       "      <td>F</td>\n",
       "      <td>56274</td>\n",
       "      <td>...</td>\n",
       "      <td>5</td>\n",
       "      <td>0</td>\n",
       "      <td>1</td>\n",
       "      <td>Corporate Auto</td>\n",
       "      <td>Corporate L3</td>\n",
       "      <td>Offer1</td>\n",
       "      <td>Agent</td>\n",
       "      <td>384.811147</td>\n",
       "      <td>Two-Door Car</td>\n",
       "      <td>Medsize</td>\n",
       "    </tr>\n",
       "    <tr>\n",
       "      <th>1</th>\n",
       "      <td>QZ44356</td>\n",
       "      <td>Arizona</td>\n",
       "      <td>6979.535903</td>\n",
       "      <td>No</td>\n",
       "      <td>Extended</td>\n",
       "      <td>Bachelor</td>\n",
       "      <td>1/31/11</td>\n",
       "      <td>Unemployed</td>\n",
       "      <td>F</td>\n",
       "      <td>0</td>\n",
       "      <td>...</td>\n",
       "      <td>42</td>\n",
       "      <td>0</td>\n",
       "      <td>8</td>\n",
       "      <td>Personal Auto</td>\n",
       "      <td>Personal L3</td>\n",
       "      <td>Offer3</td>\n",
       "      <td>Agent</td>\n",
       "      <td>1131.464935</td>\n",
       "      <td>Four-Door Car</td>\n",
       "      <td>Medsize</td>\n",
       "    </tr>\n",
       "    <tr>\n",
       "      <th>2</th>\n",
       "      <td>AI49188</td>\n",
       "      <td>Nevada</td>\n",
       "      <td>12887.431650</td>\n",
       "      <td>No</td>\n",
       "      <td>Premium</td>\n",
       "      <td>Bachelor</td>\n",
       "      <td>2/19/11</td>\n",
       "      <td>Employed</td>\n",
       "      <td>F</td>\n",
       "      <td>48767</td>\n",
       "      <td>...</td>\n",
       "      <td>38</td>\n",
       "      <td>0</td>\n",
       "      <td>2</td>\n",
       "      <td>Personal Auto</td>\n",
       "      <td>Personal L3</td>\n",
       "      <td>Offer1</td>\n",
       "      <td>Agent</td>\n",
       "      <td>566.472247</td>\n",
       "      <td>Two-Door Car</td>\n",
       "      <td>Medsize</td>\n",
       "    </tr>\n",
       "    <tr>\n",
       "      <th>3</th>\n",
       "      <td>WW63253</td>\n",
       "      <td>California</td>\n",
       "      <td>7645.861827</td>\n",
       "      <td>No</td>\n",
       "      <td>Basic</td>\n",
       "      <td>Bachelor</td>\n",
       "      <td>1/20/11</td>\n",
       "      <td>Unemployed</td>\n",
       "      <td>M</td>\n",
       "      <td>0</td>\n",
       "      <td>...</td>\n",
       "      <td>65</td>\n",
       "      <td>0</td>\n",
       "      <td>7</td>\n",
       "      <td>Corporate Auto</td>\n",
       "      <td>Corporate L2</td>\n",
       "      <td>Offer1</td>\n",
       "      <td>Call Center</td>\n",
       "      <td>529.881344</td>\n",
       "      <td>SUV</td>\n",
       "      <td>Medsize</td>\n",
       "    </tr>\n",
       "    <tr>\n",
       "      <th>4</th>\n",
       "      <td>HB64268</td>\n",
       "      <td>Washington</td>\n",
       "      <td>2813.692575</td>\n",
       "      <td>No</td>\n",
       "      <td>Basic</td>\n",
       "      <td>Bachelor</td>\n",
       "      <td>2/3/11</td>\n",
       "      <td>Employed</td>\n",
       "      <td>M</td>\n",
       "      <td>43836</td>\n",
       "      <td>...</td>\n",
       "      <td>44</td>\n",
       "      <td>0</td>\n",
       "      <td>1</td>\n",
       "      <td>Personal Auto</td>\n",
       "      <td>Personal L1</td>\n",
       "      <td>Offer1</td>\n",
       "      <td>Agent</td>\n",
       "      <td>138.130879</td>\n",
       "      <td>Four-Door Car</td>\n",
       "      <td>Medsize</td>\n",
       "    </tr>\n",
       "  </tbody>\n",
       "</table>\n",
       "<p>5 rows × 24 columns</p>\n",
       "</div>"
      ],
      "text/plain": [
       "  Customer       State  Customer Lifetime Value Response  Coverage Education  \\\n",
       "0  BU79786  Washington              2763.519279       No     Basic  Bachelor   \n",
       "1  QZ44356     Arizona              6979.535903       No  Extended  Bachelor   \n",
       "2  AI49188      Nevada             12887.431650       No   Premium  Bachelor   \n",
       "3  WW63253  California              7645.861827       No     Basic  Bachelor   \n",
       "4  HB64268  Washington              2813.692575       No     Basic  Bachelor   \n",
       "\n",
       "  Effective To Date EmploymentStatus Gender  Income  ...  \\\n",
       "0           2/24/11         Employed      F   56274  ...   \n",
       "1           1/31/11       Unemployed      F       0  ...   \n",
       "2           2/19/11         Employed      F   48767  ...   \n",
       "3           1/20/11       Unemployed      M       0  ...   \n",
       "4            2/3/11         Employed      M   43836  ...   \n",
       "\n",
       "  Months Since Policy Inception Number of Open Complaints  Number of Policies  \\\n",
       "0                             5                         0                   1   \n",
       "1                            42                         0                   8   \n",
       "2                            38                         0                   2   \n",
       "3                            65                         0                   7   \n",
       "4                            44                         0                   1   \n",
       "\n",
       "      Policy Type        Policy  Renew Offer Type  Sales Channel  \\\n",
       "0  Corporate Auto  Corporate L3            Offer1          Agent   \n",
       "1   Personal Auto   Personal L3            Offer3          Agent   \n",
       "2   Personal Auto   Personal L3            Offer1          Agent   \n",
       "3  Corporate Auto  Corporate L2            Offer1    Call Center   \n",
       "4   Personal Auto   Personal L1            Offer1          Agent   \n",
       "\n",
       "  Total Claim Amount  Vehicle Class Vehicle Size  \n",
       "0         384.811147   Two-Door Car      Medsize  \n",
       "1        1131.464935  Four-Door Car      Medsize  \n",
       "2         566.472247   Two-Door Car      Medsize  \n",
       "3         529.881344            SUV      Medsize  \n",
       "4         138.130879  Four-Door Car      Medsize  \n",
       "\n",
       "[5 rows x 24 columns]"
      ]
     },
     "execution_count": 2,
     "metadata": {},
     "output_type": "execute_result"
    }
   ],
   "source": [
    "data = pd.read_csv('marketing_customer_analysis.csv')\n",
    "data.head()"
   ]
  },
  {
   "cell_type": "code",
   "execution_count": 3,
   "id": "d3c19f96",
   "metadata": {},
   "outputs": [
    {
     "data": {
      "text/plain": [
       "Index(['Customer', 'State', 'Customer Lifetime Value', 'Response', 'Coverage',\n",
       "       'Education', 'Effective To Date', 'EmploymentStatus', 'Gender',\n",
       "       'Income', 'Location Code', 'Marital Status', 'Monthly Premium Auto',\n",
       "       'Months Since Last Claim', 'Months Since Policy Inception',\n",
       "       'Number of Open Complaints', 'Number of Policies', 'Policy Type',\n",
       "       'Policy', 'Renew Offer Type', 'Sales Channel', 'Total Claim Amount',\n",
       "       'Vehicle Class', 'Vehicle Size'],\n",
       "      dtype='object')"
      ]
     },
     "execution_count": 3,
     "metadata": {},
     "output_type": "execute_result"
    }
   ],
   "source": [
    "data.columns"
   ]
  },
  {
   "cell_type": "code",
   "execution_count": 4,
   "id": "5ac334ea",
   "metadata": {},
   "outputs": [],
   "source": [
    "from sklearn.model_selection import train_test_split\n",
    "from sklearn.linear_model import LinearRegression\n",
    "from sklearn.metrics import mean_squared_error\n",
    "from sklearn.preprocessing import StandardScaler\n",
    "from statsmodels.stats.outliers_influence import variance_inflation_factor\n",
    "\n",
    "numeric_data = data.select_dtypes(include=[np.number])\n",
    "\n",
    "# Identify and drop highly correlated features to avoid multicollinearity\n",
    "correlation_matrix = numeric_data.corr()\n",
    "correlation_threshold = 0.7\n",
    "to_drop = [col for col in correlation_matrix.columns if any(correlation_matrix[col].abs() > correlation_threshold)]\n",
    "numeric_data = numeric_data.drop(columns=to_drop)\n"
   ]
  },
  {
   "cell_type": "code",
   "execution_count": 5,
   "id": "b3c6c105",
   "metadata": {},
   "outputs": [
    {
     "data": {
      "image/png": "[encoded data removed]",
      "text/plain": [
       "<Figure size 1200x600 with 1 Axes>"
      ]
     },
     "metadata": {},
     "output_type": "display_data"
    }
   ],
   "source": [
    "import matplotlib.pyplot as plt\n",
    "import seaborn as sns\n",
    "\n",
    "numeric_data = data.select_dtypes(include=[np.number])\n",
    "\n",
    "#box plot for each numeric column\n",
    "plt.figure(figsize=(12, 6))\n",
    "sns.boxplot(data=numeric_data)\n",
    "plt.title(\"Box Plot of Numeric Columns\")\n",
    "plt.show()"
   ]
  },
  {
   "cell_type": "code",
   "execution_count": 6,
   "id": "f5cdc791",
   "metadata": {},
   "outputs": [
    {
     "name": "stdout",
     "output_type": "stream",
     "text": [
      "Shape before removing outliers: (9134, 24)\n",
      "Shape after removing outliers: (8470, 24)\n"
     ]
    }
   ],
   "source": [
    "from scipy.stats import zscore\n",
    "\n",
    "# Calculate Z-scores for all numeric columns\n",
    "z_scores = np.abs(zscore(numeric_data))\n",
    "\n",
    "# Set a threshold for Z-scores (e.g., 3 standard deviations)\n",
    "threshold = 3\n",
    "outliers_mask = (z_scores > threshold).any(axis=1)\n",
    "\n",
    "# Remove outliers\n",
    "data_cleaned = data[~outliers_mask]\n",
    "\n",
    "# Display the shape before and after outlier removal\n",
    "print(\"Shape before removing outliers:\", data.shape)\n",
    "print(\"Shape after removing outliers:\", data_cleaned.shape)\n"
   ]
  },
  {
   "cell_type": "code",
   "execution_count": 7,
   "id": "81f234ec",
   "metadata": {},
   "outputs": [],
   "source": [
    "from sklearn.model_selection import train_test_split\n",
    "\n",
    "# X-y split (assuming 'Total Claim Amount' is the target variable)\n",
    "X = data_cleaned.drop(columns=['Total Claim Amount'])\n",
    "y = data_cleaned['Total Claim Amount']\n",
    "\n",
    "# Train-test split\n",
    "X_train, X_test, y_train, y_test = train_test_split(X, y, test_size=0.2, random_state=42)\n",
    "\n",
    "# Create Pandas DataFrames\n",
    "X_train_df = pd.DataFrame(X_train, columns=X.columns)\n",
    "X_test_df = pd.DataFrame(X_test, columns=X.columns)\n"
   ]
  },
  {
   "cell_type": "code",
   "execution_count": 8,
   "id": "a75d339a",
   "metadata": {},
   "outputs": [],
   "source": [
    "from sklearn.preprocessing import StandardScaler\n",
    "\n",
    "# Split X_train into numerical and categorical\n",
    "numerical_columns = X_train_df.select_dtypes(include=np.number).columns\n",
    "categorical_columns = X_train_df.select_dtypes(exclude=np.number).columns\n",
    "\n",
    "X_train_numerical = X_train_df[numerical_columns]\n",
    "X_train_categorical = X_train_df[categorical_columns]\n",
    "\n",
    "# If needed, apply transformations to numerical columns (example using StandardScaler)\n",
    "scaler = StandardScaler()\n",
    "X_train_numerical_scaled = scaler.fit_transform(X_train_numerical)\n",
    "\n",
    "# Transform X_test using the same scaler\n",
    "X_test_numerical = X_test_df[numerical_columns]\n",
    "X_test_numerical_scaled = scaler.transform(X_test_numerical)\n",
    "\n",
    "# Create DataFrames with transformed numerical columns\n",
    "X_train_transformed = pd.DataFrame(X_train_numerical_scaled, columns=numerical_columns)\n",
    "X_test_transformed = pd.DataFrame(X_test_numerical_scaled, columns=numerical_columns)\n"
   ]
  },
  {
   "cell_type": "code",
   "execution_count": 9,
   "id": "4e3565b2",
   "metadata": {},
   "outputs": [
    {
     "data": {
      "image/png": "[encoded data removed]",
      "text/plain": [
       "<Figure size 1200x800 with 9 Axes>"
      ]
     },
     "metadata": {},
     "output_type": "display_data"
    }
   ],
   "source": [
    "import matplotlib.pyplot as plt\n",
    "import seaborn as sns\n",
    "\n",
    "#histograms for numerical features in the trainng set\n",
    "X_train_df[numerical_columns].hist(bins=20, figsize=(12, 8))\n",
    "plt.show()\n"
   ]
  },
  {
   "cell_type": "code",
   "execution_count": 10,
   "id": "b79d70b5",
   "metadata": {},
   "outputs": [],
   "source": [
    "#observing the features have skewed distributions, so we need to apply transformations."
   ]
  },
  {
   "cell_type": "code",
   "execution_count": 11,
   "id": "3bbad7db",
   "metadata": {},
   "outputs": [
    {
     "name": "stdout",
     "output_type": "stream",
     "text": [
      "       Customer Lifetime Value        Income  Monthly Premium Auto  \\\n",
      "count              6776.000000   6776.000000           6776.000000   \n",
      "mean               7151.122609  37980.072166             88.813312   \n",
      "std                4874.944018  30354.950239             26.026376   \n",
      "min                1898.007675      0.000000             61.000000   \n",
      "25%                3886.242705  10621.000000             68.000000   \n",
      "50%                5600.082522  34337.000000             80.000000   \n",
      "75%                8569.937157  62473.250000            106.000000   \n",
      "max               28511.033310  99981.000000            196.000000   \n",
      "\n",
      "       Months Since Last Claim  Months Since Policy Inception  \\\n",
      "count              6776.000000                    6776.000000   \n",
      "mean                 15.094303                      47.716499   \n",
      "std                  10.084139                      27.877434   \n",
      "min                   0.000000                       0.000000   \n",
      "25%                   6.000000                      24.000000   \n",
      "50%                  14.000000                      47.000000   \n",
      "75%                  23.000000                      71.000000   \n",
      "max                  35.000000                      99.000000   \n",
      "\n",
      "       Number of Open Complaints  Number of Policies  \n",
      "count                6776.000000         6776.000000  \n",
      "mean                    0.296340            2.976682  \n",
      "std                     0.700337            2.408298  \n",
      "min                     0.000000            1.000000  \n",
      "25%                     0.000000            1.000000  \n",
      "50%                     0.000000            2.000000  \n",
      "75%                     0.000000            4.000000  \n",
      "max                     3.000000            9.000000  \n"
     ]
    }
   ],
   "source": [
    "summary_statistics = X_train_df[numerical_columns].describe()\n",
    "print(summary_statistics)\n"
   ]
  },
  {
   "cell_type": "code",
   "execution_count": 12,
   "id": "1cf6f719",
   "metadata": {},
   "outputs": [
    {
     "data": {
      "image/png": "[encoded data removed]",
      "text/plain": [
       "<Figure size 1200x800 with 1 Axes>"
      ]
     },
     "metadata": {},
     "output_type": "display_data"
    }
   ],
   "source": [
    "#Checking for outliers after 1st round removing. \n",
    "X_train_df[numerical_columns].boxplot(figsize=(12, 8))\n",
    "plt.show()\n"
   ]
  },
  {
   "cell_type": "code",
   "execution_count": 13,
   "id": "dfd24208",
   "metadata": {},
   "outputs": [
    {
     "name": "stdout",
     "output_type": "stream",
     "text": [
      "Scaler saved successfully as scaler.pkl in transformers/\n"
     ]
    }
   ],
   "source": [
    "#Saving all the transofrmaers scalers after the.fit() using pickle\n",
    "import os\n",
    "import pickle\n",
    "\n",
    "# Create a directory to store transformers/scalers\n",
    "path = \"transformers/\"\n",
    "if not os.path.exists(path):\n",
    "    os.makedirs(path)\n",
    "    print(\"The new directory is created!\")\n",
    "\n",
    "# Save the scaler using pickle\n",
    "filename = \"scaler.pkl\"  # Choose a descriptive name\n",
    "with open(path + filename, \"wb\") as file:\n",
    "    pickle.dump(scaler, file)\n",
    "\n",
    "print(f\"Scaler saved successfully as {filename} in {path}\")"
   ]
  },
  {
   "cell_type": "code",
   "execution_count": 14,
   "id": "8355306a",
   "metadata": {},
   "outputs": [],
   "source": [
    "with open(path + filename, \"rb\") as file:\n",
    "    loaded_scaler = pickle.load(file)\n"
   ]
  },
  {
   "cell_type": "code",
   "execution_count": 15,
   "id": "63b1ab5d",
   "metadata": {},
   "outputs": [],
   "source": [
    "#DataFrames from transformed numerical arrays\n",
    "X_train_transformed_df = pd.DataFrame(X_train_transformed, columns=numerical_columns)\n",
    "X_test_transformed_df = pd.DataFrame(X_test_transformed, columns=numerical_columns)\n"
   ]
  },
  {
   "cell_type": "code",
   "execution_count": 16,
   "id": "ed65727c",
   "metadata": {},
   "outputs": [],
   "source": [
    "#Transorming the categorical columns using OneHotEncoder. Simplier way\n",
    "categorical_nominal_columns = X_train_categorical.select_dtypes(include='object').columns\n",
    "\n",
    "# One-hot encode categorical columns in the training set\n",
    "X_train_categorical_encoded_df = pd.get_dummies(X_train_categorical, columns=categorical_nominal_columns, drop_first=True)\n",
    "\n",
    "# One-hot encode categorical columns in the test set\n",
    "X_test_categorical_encoded_df = pd.get_dummies(X_test_df[categorical_nominal_columns], columns=categorical_nominal_columns, drop_first=True)\n"
   ]
  },
  {
   "cell_type": "code",
   "execution_count": 17,
   "id": "1e4b03cc",
   "metadata": {},
   "outputs": [
    {
     "name": "stdout",
     "output_type": "stream",
     "text": [
      "Column: Customer\n",
      "Unique Values: ['RL34830' 'ZC75052' 'EI10204' ... 'ID21652' 'FE73696' 'OP52966']\n",
      "\n",
      "Column: State\n",
      "Unique Values: ['California' 'Oregon' 'Nevada' 'Arizona' 'Washington']\n",
      "\n",
      "Column: Customer Lifetime Value\n",
      "Unique Values: [ 7644.763153 22658.53652  15114.40241  ...  2878.766728  3792.13031\n",
      "  4854.362069]\n",
      "\n",
      "Column: Response\n",
      "Unique Values: ['No' 'Yes']\n",
      "\n",
      "Column: Coverage\n",
      "Unique Values: ['Extended' 'Basic' 'Premium']\n",
      "\n",
      "Column: Education\n",
      "Unique Values: ['College' 'Bachelor' 'High School or Below' 'Doctor' 'Master']\n",
      "\n",
      "Column: Effective To Date\n",
      "Unique Values: ['1/31/11' '1/25/11' '1/19/11' '2/28/11' '1/3/11' '1/4/11' '2/9/11'\n",
      " '2/23/11' '1/1/11' '1/8/11' '2/3/11' '2/8/11' '1/7/11' '2/16/11'\n",
      " '1/11/11' '1/5/11' '2/25/11' '2/21/11' '2/17/11' '1/15/11' '2/27/11'\n",
      " '2/12/11' '1/16/11' '2/18/11' '1/17/11' '1/2/11' '2/19/11' '1/28/11'\n",
      " '1/30/11' '2/26/11' '2/5/11' '2/13/11' '1/22/11' '2/4/11' '1/13/11'\n",
      " '1/21/11' '2/11/11' '2/6/11' '1/10/11' '2/15/11' '1/26/11' '1/20/11'\n",
      " '1/29/11' '2/2/11' '1/14/11' '1/18/11' '2/14/11' '1/27/11' '2/10/11'\n",
      " '1/9/11' '1/23/11' '1/24/11' '2/22/11' '2/20/11' '1/6/11' '2/1/11'\n",
      " '2/7/11' '1/12/11' '2/24/11']\n",
      "\n",
      "Column: EmploymentStatus\n",
      "Unique Values: ['Employed' 'Retired' 'Medical Leave' 'Unemployed' 'Disabled']\n",
      "\n",
      "Column: Gender\n",
      "Unique Values: ['M' 'F']\n",
      "\n",
      "Column: Income\n",
      "Unique Values: [43838 23665 28513 ... 16891 97212 44279]\n",
      "\n",
      "Column: Location Code\n",
      "Unique Values: ['Suburban' 'Rural' 'Urban']\n",
      "\n",
      "Column: Marital Status\n",
      "Unique Values: ['Married' 'Single' 'Divorced']\n",
      "\n",
      "Column: Monthly Premium Auto\n",
      "Unique Values: [ 97  67 100 109  69 134  68  73  66  71  86 113 170  93  99 119 186 106\n",
      "  90 117 111  81 118 194  62  87  65 104  72 142 125  74  98  84  70 108\n",
      "  76 175  64 146  92  63 110 112 114 132  78  83  80 139 107  91 103 115\n",
      "  79 126 131  61  77  88 105 154 116 133  89  95 190 124  94 121 129  96\n",
      " 123 101 161 135 177 136  85  82 128 138 153 102 156 122 137 173 127 187\n",
      " 158 180 171 196 185 183 184 141 155 130 191 189 172 181 165 143 193 145\n",
      " 140 178 195 188 151 169 167 150 182 159 192 148 160 176 164 149 152 168\n",
      " 163 147 157]\n",
      "\n",
      "Column: Months Since Last Claim\n",
      "Unique Values: [11 19  4 26  6 22  9 13  3 20  8 21 28 10 30 14 12 35 15  5 27 34 16  0\n",
      "  2 18 23  7  1 25 32 17 29 31 24 33]\n",
      "\n",
      "Column: Months Since Policy Inception\n",
      "Unique Values: [37 50 22 11 12 56 78 19  0 72 30 76 70  4 27 58 26 48 73 28 75 67  9 23\n",
      " 25 14 41 52 44 81 13 34 87 61 32 84 89 99 16 60 90 20 43 21 69  2 42  5\n",
      " 63  1 35 96 29 18 17 59 62 95  7 49 77 53 51 31 94 80 10 88 91 46 79 71\n",
      " 97  8 92 15 54 57  6  3 36 65 39 82 47 64 40 86 38 33 98 74 24 45 83 68\n",
      " 93 55 66 85]\n",
      "\n",
      "Column: Number of Open Complaints\n",
      "Unique Values: [0 1 2 3]\n",
      "\n",
      "Column: Number of Policies\n",
      "Unique Values: [7 2 3 1 9 8 6 4 5]\n",
      "\n",
      "Column: Policy Type\n",
      "Unique Values: ['Corporate Auto' 'Personal Auto' 'Special Auto']\n",
      "\n",
      "Column: Policy\n",
      "Unique Values: ['Corporate L2' 'Personal L3' 'Personal L2' 'Corporate L3' 'Special L2'\n",
      " 'Personal L1' 'Special L3' 'Special L1' 'Corporate L1']\n",
      "\n",
      "Column: Renew Offer Type\n",
      "Unique Values: ['Offer2' 'Offer1' 'Offer4' 'Offer3']\n",
      "\n",
      "Column: Sales Channel\n",
      "Unique Values: ['Web' 'Branch' 'Call Center' 'Agent']\n",
      "\n",
      "Column: Vehicle Class\n",
      "Unique Values: ['Four-Door Car' 'SUV' 'Two-Door Car' 'Luxury Car' 'Luxury SUV'\n",
      " 'Sports Car']\n",
      "\n",
      "Column: Vehicle Size\n",
      "Unique Values: ['Medsize' 'Large' 'Small']\n",
      "\n"
     ]
    }
   ],
   "source": [
    "# Display unique values in each column\n",
    "for column in X_train_df.columns:\n",
    "    unique_values = X_train_df[column].unique()\n",
    "    print(f\"Column: {column}\\nUnique Values: {unique_values}\\n\")\n"
   ]
  },
  {
   "cell_type": "code",
   "execution_count": 18,
   "id": "054bd3f4",
   "metadata": {},
   "outputs": [],
   "source": [
    "# Identifing categorical ordinal columns\n",
    "categorical_ordinal_columns = ['Education']\n",
    "\n",
    "# Defining the mapping for the 'Education' column\n",
    "education_mapping = {'High School or Below': 0, 'Bachelor': 1, 'College': 2, 'Master': 3, 'Doctor': 4}\n",
    "\n",
    "# Replace values in the training set\n",
    "X_train_ordinal_encoded_df = X_train_df.copy()\n",
    "X_train_ordinal_encoded_df['Education'] = X_train_ordinal_encoded_df['Education'].replace(education_mapping)\n",
    "\n",
    "# Replace values in the test set\n",
    "X_test_ordinal_encoded_df = X_test_df.copy()\n",
    "X_test_ordinal_encoded_df['Education'] = X_test_ordinal_encoded_df['Education'].replace(education_mapping)\n"
   ]
  },
  {
   "cell_type": "code",
   "execution_count": 19,
   "id": "cf12568a",
   "metadata": {},
   "outputs": [],
   "source": [
    "# Concatenate numerical and categorical DataFrames\n",
    "X_train_transformed_concatenated = pd.concat([X_train_transformed_df, X_train_categorical_encoded_df, X_train_ordinal_encoded_df], axis=1)\n",
    "X_test_transformed_concatenated = pd.concat([X_test_transformed_df, X_test_categorical_encoded_df, X_test_ordinal_encoded_df], axis=1)\n"
   ]
  },
  {
   "cell_type": "code",
   "execution_count": 20,
   "id": "705fdfe0",
   "metadata": {},
   "outputs": [],
   "source": [
    "from sklearn.preprocessing import MinMaxScaler\n",
    "import pickle\n",
    "import os\n",
    "\n",
    "# Creating a directory to store scalers\n",
    "scaler_path = \"scalers/\"\n",
    "if not os.path.exists(scaler_path):\n",
    "    os.makedirs(scaler_path)\n",
    "    print(\"The new directory is created!\")\n",
    "\n",
    "# Excluding non-numeric columns before scaling\n",
    "numeric_columns = X_train_transformed_df.select_dtypes(include=np.number).columns\n",
    "\n",
    "# MinMaxScaler to the concatenated DataFrame for numeric columns only\n",
    "minmax_scaler = MinMaxScaler()\n",
    "X_train_scaled = X_train_transformed_concatenated.copy()\n",
    "X_train_scaled[numeric_columns] = minmax_scaler.fit_transform(X_train_transformed_concatenated[numeric_columns])\n",
    "\n",
    "X_test_scaled = X_test_transformed_concatenated.copy()\n",
    "X_test_scaled[numeric_columns] = minmax_scaler.transform(X_test_transformed_concatenated[numeric_columns])\n",
    "\n",
    "# Saving the MinMaxScaler using pickle\n",
    "scaler_filename = \"minmax_scaler.pkl\"  # Choose a descriptive name\n",
    "with open(scaler_path + scaler_filename, \"wb\") as file:\n",
    "    pickle.dump(minmax_scaler, file)\n"
   ]
  },
  {
   "cell_type": "code",
   "execution_count": null,
   "id": "f39aeb36",
   "metadata": {},
   "outputs": [],
   "source": [
    "print(X_train_transformed_concatenated.columns)\n"
   ]
  },
  {
   "cell_type": "code",
   "execution_count": null,
   "id": "a304575a",
   "metadata": {},
   "outputs": [],
   "source": [
    "# Search for columns containing 'Total Claim Amount'\n",
    "matching_columns = [col for col in X_train_transformed_concatenated.columns if 'Total Claim Amount' in col]\n",
    "\n",
    "# Print the matching columns\n",
    "print(matching_columns)\n"
   ]
  },
  {
   "cell_type": "code",
   "execution_count": null,
   "id": "18871410",
   "metadata": {},
   "outputs": [],
   "source": [
    "# Search for columns containing 'Total Claim Amount'\n",
    "matching_columns = [col for col in X_train_transformed_concatenated.columns if 'Total Claim Amount' in col]\n",
    "\n",
    "# Print the matching columns\n",
    "print(matching_columns)\n",
    "\n"
   ]
  },
  {
   "cell_type": "code",
   "execution_count": null,
   "id": "8d6bd7b1",
   "metadata": {},
   "outputs": [],
   "source": [
    "y_train = X_train_transformed_concatenated['Total Claim Amount']\n",
    "\n",
    "# Concatenate numerical and categorical DataFrames\n",
    "X_train_transformed_concatenated = pd.concat([X_train_transformed_df, X_train_categorical_encoded_df, X_train_ordinal_encoded_df], axis=1)\n",
    "X_test_transformed_concatenated = pd.concat([X_test_transformed_df, X_test_categorical_encoded_df, X_test_ordinal_encoded_df], axis=1)\n"
   ]
  },
  {
   "cell_type": "code",
   "execution_count": null,
   "id": "f8688835",
   "metadata": {},
   "outputs": [],
   "source": [
    "print(X_train_transformed_concatenated.columns)\n"
   ]
  },
  {
   "cell_type": "code",
   "execution_count": null,
   "id": "6aec2620",
   "metadata": {},
   "outputs": [],
   "source": [
    "# Checking the columns of the original DataFrame\n",
    "print(\"Original DataFrame Columns:\")\n",
    "print(data.columns)\n",
    "\n",
    "# Display the columns of the transformed concatenated DataFrame\n",
    "print(\"\\nTransformed Concatenated DataFrame Columns:\")\n",
    "print(X_train_transformed_concatenated.columns)\n"
   ]
  },
  {
   "cell_type": "code",
   "execution_count": null,
   "id": "ca81dc41",
   "metadata": {},
   "outputs": [],
   "source": [
    "# Check if 'Total Claim Amount' is in the original DataFrame\n",
    "print(\"'Total Claim Amount' in Original DataFrame:\", 'Total Claim Amount' in data.columns)\n"
   ]
  },
  {
   "cell_type": "code",
   "execution_count": null,
   "id": "0b60509f",
   "metadata": {},
   "outputs": [],
   "source": [
    " # Concatenate numerical and categorical DataFrames\n",
    "X_train_transformed_concatenated = pd.concat([X_train_transformed_df, X_train_categorical_encoded_df, X_train_ordinal_encoded_df], axis=1)\n"
   ]
  },
  {
   "cell_type": "code",
   "execution_count": null,
   "id": "9ed623dc",
   "metadata": {},
   "outputs": [],
   "source": [
    "y_train = X_train_transformed_concatenated['Total Claim Amount']\n"
   ]
  },
  {
   "cell_type": "code",
   "execution_count": null,
   "id": "aa836cab",
   "metadata": {},
   "outputs": [],
   "source": [
    "from sklearn.linear_model import LinearRegression\n",
    "\n",
    "# Instantiate the linear regression model\n",
    "model = LinearRegression()"
   ]
  },
  {
   "cell_type": "code",
   "execution_count": null,
   "id": "8b8a391a",
   "metadata": {},
   "outputs": [],
   "source": [
    "#LINEAR REGRESSION \n",
    "y_train = data['Total Claim Amount']\n",
    "\n",
    "# Split the data into training and testing sets\n",
    "X_train_scaled, X_test_scaled, y_train, y_test = train_test_split(X_train_transformed_concatenated, y_train, test_size=0.2, random_state=42)\n",
    "\n",
    "# Apply MinMaxScaler to the concatenated DataFrame\n",
    "minmax_scaler = MinMaxScaler()\n",
    "X_train_scaled = minmax_scaler.fit_transform(X_train_scaled)\n",
    "X_test_scaled = minmax_scaler.transform(X_test_scaled)\n",
    "\n",
    "# Save the MinMaxScaler using pickle\n",
    "path = \"scalers/\"\n",
    "filename = \"minmax_scaler.pkl\"\n",
    "with open(os.path.join(path, filename), \"wb\") as file:\n",
    "    pickle.dump(minmax_scaler, file)\n",
    "\n",
    "# Initialize the linear regression model\n",
    "model = LinearRegression()\n",
    "\n",
    "# Fiting the model to the training data\n",
    "model.fit(X_train_scaled, y_train)\n",
    "\n",
    "# Making predictions on the training set\n",
    "y_train_pred = model.predict(X_train_scaled)\n",
    "\n",
    "# Making predictions on the test set\n",
    "y_test_pred = model.predict(X_test_scaled)\n"
   ]
  },
  {
   "cell_type": "code",
   "execution_count": null,
   "id": "1763d715",
   "metadata": {},
   "outputs": [],
   "source": [
    "from sklearn.metrics import r2_score, mean_squared_error, mean_absolute_error\n",
    "import numpy as np\n",
    "\n",
    "#MODEL VALIDATION \n",
    "\n",
    "# Calculating R2 for Train and Test sets\n",
    "r2_train = r2_score(y_train, y_train_pred)\n",
    "r2_test = r2_score(y_test, y_test_pred)\n",
    "\n",
    "# Calculating MSE for Train and Test sets\n",
    "mse_train = mean_squared_error(y_train, y_train_pred)\n",
    "mse_test = mean_squared_error(y_test, y_test_pred)\n",
    "\n",
    "# Calculating RMSE for Train and Test sets\n",
    "rmse_train = np.sqrt(mse_train)\n",
    "rmse_test = np.sqrt(mse_test)\n",
    "\n",
    "# Calculating MAE for Train and Test sets\n",
    "mae_train = mean_absolute_error(y_train, y_train_pred)\n",
    "mae_test = mean_absolute_error(y_test, y_test_pred)\n",
    "\n",
    "# New Pandas DataFrame to summarize the error metrics\n",
    "metrics_data = {\n",
    "    'Metric': ['R2', 'MSE', 'RMSE', 'MAE'],\n",
    "    'Train Set': [r2_train, mse_train, rmse_train, mae_train],\n",
    "    'Test Set': [r2_test, mse_test, rmse_test, mae_test]\n",
    "}\n",
    "\n",
    "metrics_df = pd.DataFrame(metrics_data)\n",
    "\n",
    "print(metrics_df)\n"
   ]
  },
  {
   "cell_type": "code",
   "execution_count": null,
   "id": "6932c16a",
   "metadata": {},
   "outputs": [],
   "source": [
    "print(X_train_transformed_concatenated.columns)\n"
   ]
  }
 ],
 "metadata": {
  "kernelspec": {
   "display_name": "Python 3 (ipykernel)",
   "language": "python",
   "name": "python3"
  },
  "language_info": {
   "codemirror_mode": {
    "name": "ipython",
    "version": 3
   },
   "file_extension": ".py",
   "mimetype": "text/x-python",
   "name": "python",
   "nbconvert_exporter": "python",
   "pygments_lexer": "ipython3",
   "version": "3.11.7"
  }
 },
 "nbformat": 4,
 "nbformat_minor": 5
}
